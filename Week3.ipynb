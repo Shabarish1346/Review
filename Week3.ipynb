{
  "nbformat": 4,
  "nbformat_minor": 0,
  "metadata": {
    "colab": {
      "name": "Week3.ipynb",
      "provenance": [],
      "collapsed_sections": [],
      "authorship_tag": "ABX9TyNw/fKDafMfrHC9GyRaGxc0",
      "include_colab_link": true
    },
    "kernelspec": {
      "name": "python3",
      "display_name": "Python 3"
    },
    "language_info": {
      "name": "python"
    }
  },
  "cells": [
    {
      "cell_type": "markdown",
      "metadata": {
        "id": "view-in-github",
        "colab_type": "text"
      },
      "source": [
        "<a href=\"https://colab.research.google.com/github/Shabarish1346/Review/blob/Review/Week3.ipynb\" target=\"_parent\"><img src=\"https://colab.research.google.com/assets/colab-badge.svg\" alt=\"Open In Colab\"/></a>"
      ]
    },
    {
      "cell_type": "code",
      "metadata": {
        "colab": {
          "base_uri": "https://localhost:8080/"
        },
        "id": "FoTsH5CitR7E",
        "outputId": "7f292f1e-9c39-4013-8353-39e85f1000bb"
      },
      "source": [
        "import copy\n",
        "n = int(input())\n",
        "l = []\n",
        "\n",
        "for i in range(1,n):\n",
        "  for j in range(1,n):\n",
        "    for k in range(1,n):\n",
        "      s = l.copy()\n",
        "      if (i**4)+(j**3) == (k**2):\n",
        "        s.extend((i,j,k))\n",
        "        s.sort()\n",
        "        print(s[0],s[1],s[2])\n"
      ],
      "execution_count": null,
      "outputs": [
        {
          "output_type": "stream",
          "text": [
            "100\n",
            "1 2 3\n",
            "5 6 29\n",
            "6 9 45\n",
            "7 15 76\n"
          ],
          "name": "stdout"
        }
      ]
    },
    {
      "cell_type": "code",
      "metadata": {
        "colab": {
          "base_uri": "https://localhost:8080/"
        },
        "id": "GY-g_Od717B2",
        "outputId": "42620b8c-e105-4676-ead8-efd3101acd80"
      },
      "source": [
        "#PPA6\n",
        "string1 = input()\n",
        "string2 = input()\n",
        "\n",
        "#assigned i as variable with lambda\n",
        "#check the each character from string2 is available in string1 or not\n",
        "#filters the characters from string2 which are not available in string1 and joins as a string\n",
        "string3 = ''.join(filter(lambda i: i not in string1,string2))\n",
        "print(string3)\n"
      ],
      "execution_count": null,
      "outputs": [
        {
          "output_type": "stream",
          "text": [
            "aeiou\n",
            "this is python program\n",
            "ths s pythn prgrm\n"
          ],
          "name": "stdout"
        }
      ]
    },
    {
      "cell_type": "code",
      "metadata": {
        "id": "LAV_Dl4lyCl4",
        "colab": {
          "base_uri": "https://localhost:8080/"
        },
        "outputId": "6dfe9ee1-1eab-40f7-efa6-fe7537e1d781"
      },
      "source": [
        "#GPA1\n",
        "num = int(input())\n",
        "sum = 0\n",
        "\n",
        "#calculating the series 1 + (1 + 2) + (1 + 2 + 3) + --- \n",
        "for i in range(1,num+1):\n",
        "  for j in range(1,i+1):\n",
        "    sum = sum + j\n",
        "print(sum)"
      ],
      "execution_count": null,
      "outputs": [
        {
          "output_type": "stream",
          "text": [
            "5\n",
            "35\n"
          ],
          "name": "stdout"
        }
      ]
    },
    {
      "cell_type": "code",
      "metadata": {
        "colab": {
          "base_uri": "https://localhost:8080/"
        },
        "id": "RbFBTgu51hP0",
        "outputId": "1784ef2a-02eb-4da2-b974-b136ef496e79"
      },
      "source": [
        "#GPA2\n",
        "num = int(input())\n",
        "prime = [2]\n",
        "\n",
        "#finding the prime numbers from 3 to given input and appending it in prime list\n",
        "for i in range(3,num,2):\n",
        "  flag = True\n",
        "  for j in range(2,i):\n",
        "    if i%j == 0:\n",
        "      flag = False\n",
        "      break\n",
        "  if flag:\n",
        "    prime.append(i)\n",
        "\n",
        "#checking the primes are divisible by given input\n",
        "flag = False\n",
        "for i in prime:\n",
        "  if num%i == 0:\n",
        "    flag = True\n",
        "    print(i)\n",
        "\n",
        "#If no prime factors are there, the given input is getting printed\n",
        "if not flag:\n",
        "  print(num)"
      ],
      "execution_count": null,
      "outputs": [
        {
          "output_type": "stream",
          "text": [
            "78\n",
            "2\n",
            "3\n",
            "13\n"
          ],
          "name": "stdout"
        }
      ]
    },
    {
      "cell_type": "code",
      "metadata": {
        "colab": {
          "base_uri": "https://localhost:8080/"
        },
        "id": "vNGq00CH8bJd",
        "outputId": "63821e4a-e095-4dd1-ac61-f82a1481cef3"
      },
      "source": [
        "#GPA3\n",
        "string = input().lower()\n",
        "\n",
        "#Sort string alphabetically and return list\n",
        "sorted_string_list = sorted(string)\n",
        "#print(sorted_string_list)\n",
        "\n",
        "#Combine list elements into one string and filters only alphabets from that string\n",
        "string = ''.join(filter(str.isalpha,sorted_string_list))\n",
        "print(string)"
      ],
      "execution_count": 9,
      "outputs": [
        {
          "output_type": "stream",
          "text": [
            "Bharatan*atyam\n",
            "aaaaabhmnrtty\n"
          ],
          "name": "stdout"
        }
      ]
    },
    {
      "cell_type": "code",
      "metadata": {
        "colab": {
          "base_uri": "https://localhost:8080/"
        },
        "id": "iRM-jPhhIpae",
        "outputId": "8760ad46-78f6-4287-d813-e06cd9fc92cb"
      },
      "source": [
        "#GPA4\n",
        "string = input()\n",
        "strlen = len(string)\n",
        "prime = [2]\n",
        "\n",
        "#finding prime numbers from 3 to string length and appending it to the list\n",
        "for num1 in range(3,strlen,2):\n",
        "  flag = True\n",
        "  for num2 in range(2,num1):\n",
        "    if num1%num2 == 0:\n",
        "      flag = False\n",
        "      break\n",
        "  if flag:\n",
        "    prime.append(num1)\n",
        "\n",
        "#printing prime indexed elements from the input string\n",
        "for pnum in prime:\n",
        "  print(string[pnum])"
      ],
      "execution_count": 8,
      "outputs": [
        {
          "output_type": "stream",
          "text": [
            "hellopython\n",
            "l\n",
            "l\n",
            "p\n",
            "t\n"
          ],
          "name": "stdout"
        }
      ]
    },
    {
      "cell_type": "code",
      "metadata": {
        "colab": {
          "base_uri": "https://localhost:8080/"
        },
        "id": "ND9Gf19HJ9YN",
        "outputId": "b928dbaa-c368-4d4a-aab2-70f89aaf3dcb"
      },
      "source": [
        "#GPA5\n",
        "num = str(input())\n",
        "flag = True\n",
        "\n",
        "#Number should not have any digit more than 7 times\n",
        "for i in num:\n",
        "  if num.count(i) > 7:\n",
        "    flag = False\n",
        "\n",
        "#Any digit should not be out of 0 to 9\n",
        "for i in num:\n",
        "  if i not in '0123456789': \n",
        "    flag = False\n",
        "\n",
        "#Number should not have any digit repeated more than 5 times in consecutive manner\n",
        "for i in num:\n",
        "  count = 0\n",
        "  for j in num:\n",
        "    if i == j:\n",
        "      count = count+1\n",
        "    else:\n",
        "      continue\n",
        "  if count>5:\n",
        "    flag = False\n",
        "    break\n",
        "\n",
        "#number should starts with betwee 6 to 9 and length of the number should be 10 \n",
        "if num[0] in '6789' and len(num) == 10 and flag:\n",
        "  print('valid')\n",
        "else:\n",
        "  print('invalid')"
      ],
      "execution_count": 7,
      "outputs": [
        {
          "output_type": "stream",
          "text": [
            "9555555432\n",
            "invalid\n"
          ],
          "name": "stdout"
        }
      ]
    }
  ]
}